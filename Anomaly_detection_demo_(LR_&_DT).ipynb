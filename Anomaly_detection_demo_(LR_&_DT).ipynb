{
  "nbformat": 4,
  "nbformat_minor": 0,
  "metadata": {
    "colab": {
      "name": "Anomaly_detection demo (LR & DT).ipynb",
      "provenance": [],
      "collapsed_sections": [],
      "include_colab_link": true
    },
    "kernelspec": {
      "name": "python3",
      "display_name": "Python 3"
    }
  },
  "cells": [
    {
      "cell_type": "markdown",
      "metadata": {
        "id": "view-in-github",
        "colab_type": "text"
      },
      "source": [
        "<a href=\"https://colab.research.google.com/github/shaoweiwang2010/SEII-AIOps_data/blob/main/Anomaly_detection_demo_(LR_%26_DT).ipynb\" target=\"_parent\"><img src=\"https://colab.research.google.com/assets/colab-badge.svg\" alt=\"Open In Colab\"/></a>"
      ]
    },
    {
      "cell_type": "markdown",
      "metadata": {
        "id": "gz_L3k6qLMqk"
      },
      "source": [
        "<h1>Analyzing System Logs for Anomaly Detection</h1>\n",
        "\n",
        "This demo shows an example of using system logs for anomaly detection. Both **supervised learning** (e.g., logistic regression, decision tree, SVM) and **unsupervised learning** (clustering, PCA, invariants mining) methods have been used for the task of anomaly detection. In this example, we use supervised learning, specifically, a **logistic regression model** and a **decision tree model**, to indentify anomalies in system logs.\n",
        "\n",
        "Log-based anomaly detection typically include four steps: **log collection**, **log parsing**, **feature extraction**, and **anomaly detection**. In this demo, we focus on the **feature extraction** and **anomaly detection** steps.\n",
        "\n",
        "**Acknowledgement**:\n",
        "\n",
        "Shilin He, Jieming Zhu, Pinjia He, Michael R. Lyu. Experience Report: System Log Analysis for Anomaly Detection, IEEE International Symposium on Software Reliability Engineering (ISSRE), 2016"
      ]
    },
    {
      "cell_type": "markdown",
      "metadata": {
        "id": "RDTxHT3dPFri"
      },
      "source": [
        "## Import needed libraries and dependencies"
      ]
    },
    {
      "cell_type": "markdown",
      "metadata": {
        "id": "Hyl_vQvLPXtM"
      },
      "source": [
        "Mount a google drive folder."
      ]
    },
    {
      "cell_type": "code",
      "metadata": {
        "id": "DisLFgAcHXjA"
      },
      "source": [
        "#from google.colab import drive\n",
        "#drive.mount('/content/drive/')\n",
        "#import sys\n",
        "#sys.path.append('drive/My Drive/Colab Notebooks/AIOps-anomaly-detection-demo')"
      ],
      "execution_count": 2,
      "outputs": []
    },
    {
      "cell_type": "markdown",
      "metadata": {
        "id": "Qm2SMuhBP0rq"
      },
      "source": [
        "Import the needed libraries. We use the **logistic regression model** and the **decision tree model** provided by the **sklearn** library. We use the **numpy** and **pandas** libraries to deal with basic data structures (e.g., arrays and dataframes) used in our analysis."
      ]
    },
    {
      "cell_type": "code",
      "metadata": {
        "id": "Lhw6PlH8KW3Y"
      },
      "source": [
        "from sklearn.linear_model import LogisticRegression\n",
        "from sklearn.tree import DecisionTreeClassifier\n",
        "from sklearn.metrics import precision_recall_fscore_support\n",
        "from sklearn.metrics import precision_recall_curve\n",
        "from sklearn.metrics import roc_auc_score\n",
        "from sklearn.metrics import roc_curve\n",
        "import matplotlib.pyplot as plt\n",
        "import pandas as pd\n",
        "import numpy as np\n",
        "import re\n",
        "from sklearn.utils import shuffle\n",
        "from collections import OrderedDict\n",
        "from collections import Counter\n"
      ],
      "execution_count": 3,
      "outputs": []
    },
    {
      "cell_type": "markdown",
      "metadata": {
        "id": "3op2BQnKQhka"
      },
      "source": [
        "## Read the log data\n"
      ]
    },
    {
      "cell_type": "markdown",
      "metadata": {
        "id": "0hA8we-qrVUK"
      },
      "source": [
        "### Read the data from a GitHub repo\n",
        "We read the log data from a GitHub repository (https://github.com/henglicad/AIOps-tutorial-data/). There are two files in the repo: the file *HDFS_100k.log_structured.csv* contains the structured (i.e., parsed) log data; the file *HDFS.anomaly_label.csv* contains the labels (normal/anomaly).\n",
        "We read the csv files into **Pandas** dataframes.\n",
        "\n"
      ]
    },
    {
      "cell_type": "code",
      "metadata": {
        "id": "EjY7OPIAdvV8"
      },
      "source": [
        "struct_log_file = 'https://media.githubusercontent.com/media/shaoweiwang2010/SEII-AIOps_data/main/HDFS_100k.log_structured.csv'\n",
        "struct_log = pd.read_csv(struct_log_file, engine='c', na_filter=False, memory_map=True)\n",
        "\n",
        "label_file = 'https://raw.githubusercontent.com/shaoweiwang2010/SEII-AIOps_data/main/HDFS.anomaly_label.csv'\n",
        "label_data = pd.read_csv(label_file, engine='c', na_filter=False, memory_map=True)"
      ],
      "execution_count": 8,
      "outputs": []
    },
    {
      "cell_type": "markdown",
      "metadata": {
        "id": "7tO1jVkqrdsK"
      },
      "source": [
        "### Exploring the data\n",
        "It is always a good practice to explore the data before doing any analysis."
      ]
    },
    {
      "cell_type": "code",
      "metadata": {
        "id": "aPdn6cAzrF-J",
        "colab": {
          "base_uri": "https://localhost:8080/",
          "height": 389
        },
        "outputId": "739ff035-69f0-46a7-db18-5a4625bde47c"
      },
      "source": [
        "print(type(struct_log))\n",
        "print(struct_log.shape)\n",
        "struct_log.head(5)"
      ],
      "execution_count": 9,
      "outputs": [
        {
          "output_type": "stream",
          "name": "stdout",
          "text": [
            "<class 'pandas.core.frame.DataFrame'>\n",
            "(104815, 9)\n"
          ]
        },
        {
          "output_type": "execute_result",
          "data": {
            "text/html": [
              "\n",
              "  <div id=\"df-4be8d9a2-4942-4b75-bab2-35970428c36c\">\n",
              "    <div class=\"colab-df-container\">\n",
              "      <div>\n",
              "<style scoped>\n",
              "    .dataframe tbody tr th:only-of-type {\n",
              "        vertical-align: middle;\n",
              "    }\n",
              "\n",
              "    .dataframe tbody tr th {\n",
              "        vertical-align: top;\n",
              "    }\n",
              "\n",
              "    .dataframe thead th {\n",
              "        text-align: right;\n",
              "    }\n",
              "</style>\n",
              "<table border=\"1\" class=\"dataframe\">\n",
              "  <thead>\n",
              "    <tr style=\"text-align: right;\">\n",
              "      <th></th>\n",
              "      <th>LineId</th>\n",
              "      <th>Date</th>\n",
              "      <th>Time</th>\n",
              "      <th>Pid</th>\n",
              "      <th>Level</th>\n",
              "      <th>Component</th>\n",
              "      <th>Content</th>\n",
              "      <th>EventId</th>\n",
              "      <th>EventTemplate</th>\n",
              "    </tr>\n",
              "  </thead>\n",
              "  <tbody>\n",
              "    <tr>\n",
              "      <th>0</th>\n",
              "      <td>1</td>\n",
              "      <td>81109</td>\n",
              "      <td>203518</td>\n",
              "      <td>143</td>\n",
              "      <td>INFO</td>\n",
              "      <td>dfs.DataNode$DataXceiver</td>\n",
              "      <td>Receiving block blk_-1608999687919862906 src: ...</td>\n",
              "      <td>E5</td>\n",
              "      <td>Receiving block &lt;*&gt; src: /&lt;*&gt; dest: /&lt;*&gt;</td>\n",
              "    </tr>\n",
              "    <tr>\n",
              "      <th>1</th>\n",
              "      <td>2</td>\n",
              "      <td>81109</td>\n",
              "      <td>203518</td>\n",
              "      <td>35</td>\n",
              "      <td>INFO</td>\n",
              "      <td>dfs.FSNamesystem</td>\n",
              "      <td>BLOCK* NameSystem.allocateBlock: /mnt/hadoop/m...</td>\n",
              "      <td>E22</td>\n",
              "      <td>BLOCK* NameSystem.allocateBlock:&lt;*&gt;</td>\n",
              "    </tr>\n",
              "    <tr>\n",
              "      <th>2</th>\n",
              "      <td>3</td>\n",
              "      <td>81109</td>\n",
              "      <td>203519</td>\n",
              "      <td>143</td>\n",
              "      <td>INFO</td>\n",
              "      <td>dfs.DataNode$DataXceiver</td>\n",
              "      <td>Receiving block blk_-1608999687919862906 src: ...</td>\n",
              "      <td>E5</td>\n",
              "      <td>Receiving block &lt;*&gt; src: /&lt;*&gt; dest: /&lt;*&gt;</td>\n",
              "    </tr>\n",
              "    <tr>\n",
              "      <th>3</th>\n",
              "      <td>4</td>\n",
              "      <td>81109</td>\n",
              "      <td>203519</td>\n",
              "      <td>145</td>\n",
              "      <td>INFO</td>\n",
              "      <td>dfs.DataNode$DataXceiver</td>\n",
              "      <td>Receiving block blk_-1608999687919862906 src: ...</td>\n",
              "      <td>E5</td>\n",
              "      <td>Receiving block &lt;*&gt; src: /&lt;*&gt; dest: /&lt;*&gt;</td>\n",
              "    </tr>\n",
              "    <tr>\n",
              "      <th>4</th>\n",
              "      <td>5</td>\n",
              "      <td>81109</td>\n",
              "      <td>203519</td>\n",
              "      <td>145</td>\n",
              "      <td>INFO</td>\n",
              "      <td>dfs.DataNode$PacketResponder</td>\n",
              "      <td>PacketResponder 1 for block blk_-1608999687919...</td>\n",
              "      <td>E11</td>\n",
              "      <td>PacketResponder &lt;*&gt; for block &lt;*&gt; terminating</td>\n",
              "    </tr>\n",
              "  </tbody>\n",
              "</table>\n",
              "</div>\n",
              "      <button class=\"colab-df-convert\" onclick=\"convertToInteractive('df-4be8d9a2-4942-4b75-bab2-35970428c36c')\"\n",
              "              title=\"Convert this dataframe to an interactive table.\"\n",
              "              style=\"display:none;\">\n",
              "        \n",
              "  <svg xmlns=\"http://www.w3.org/2000/svg\" height=\"24px\"viewBox=\"0 0 24 24\"\n",
              "       width=\"24px\">\n",
              "    <path d=\"M0 0h24v24H0V0z\" fill=\"none\"/>\n",
              "    <path d=\"M18.56 5.44l.94 2.06.94-2.06 2.06-.94-2.06-.94-.94-2.06-.94 2.06-2.06.94zm-11 1L8.5 8.5l.94-2.06 2.06-.94-2.06-.94L8.5 2.5l-.94 2.06-2.06.94zm10 10l.94 2.06.94-2.06 2.06-.94-2.06-.94-.94-2.06-.94 2.06-2.06.94z\"/><path d=\"M17.41 7.96l-1.37-1.37c-.4-.4-.92-.59-1.43-.59-.52 0-1.04.2-1.43.59L10.3 9.45l-7.72 7.72c-.78.78-.78 2.05 0 2.83L4 21.41c.39.39.9.59 1.41.59.51 0 1.02-.2 1.41-.59l7.78-7.78 2.81-2.81c.8-.78.8-2.07 0-2.86zM5.41 20L4 18.59l7.72-7.72 1.47 1.35L5.41 20z\"/>\n",
              "  </svg>\n",
              "      </button>\n",
              "      \n",
              "  <style>\n",
              "    .colab-df-container {\n",
              "      display:flex;\n",
              "      flex-wrap:wrap;\n",
              "      gap: 12px;\n",
              "    }\n",
              "\n",
              "    .colab-df-convert {\n",
              "      background-color: #E8F0FE;\n",
              "      border: none;\n",
              "      border-radius: 50%;\n",
              "      cursor: pointer;\n",
              "      display: none;\n",
              "      fill: #1967D2;\n",
              "      height: 32px;\n",
              "      padding: 0 0 0 0;\n",
              "      width: 32px;\n",
              "    }\n",
              "\n",
              "    .colab-df-convert:hover {\n",
              "      background-color: #E2EBFA;\n",
              "      box-shadow: 0px 1px 2px rgba(60, 64, 67, 0.3), 0px 1px 3px 1px rgba(60, 64, 67, 0.15);\n",
              "      fill: #174EA6;\n",
              "    }\n",
              "\n",
              "    [theme=dark] .colab-df-convert {\n",
              "      background-color: #3B4455;\n",
              "      fill: #D2E3FC;\n",
              "    }\n",
              "\n",
              "    [theme=dark] .colab-df-convert:hover {\n",
              "      background-color: #434B5C;\n",
              "      box-shadow: 0px 1px 3px 1px rgba(0, 0, 0, 0.15);\n",
              "      filter: drop-shadow(0px 1px 2px rgba(0, 0, 0, 0.3));\n",
              "      fill: #FFFFFF;\n",
              "    }\n",
              "  </style>\n",
              "\n",
              "      <script>\n",
              "        const buttonEl =\n",
              "          document.querySelector('#df-4be8d9a2-4942-4b75-bab2-35970428c36c button.colab-df-convert');\n",
              "        buttonEl.style.display =\n",
              "          google.colab.kernel.accessAllowed ? 'block' : 'none';\n",
              "\n",
              "        async function convertToInteractive(key) {\n",
              "          const element = document.querySelector('#df-4be8d9a2-4942-4b75-bab2-35970428c36c');\n",
              "          const dataTable =\n",
              "            await google.colab.kernel.invokeFunction('convertToInteractive',\n",
              "                                                     [key], {});\n",
              "          if (!dataTable) return;\n",
              "\n",
              "          const docLinkHtml = 'Like what you see? Visit the ' +\n",
              "            '<a target=\"_blank\" href=https://colab.research.google.com/notebooks/data_table.ipynb>data table notebook</a>'\n",
              "            + ' to learn more about interactive tables.';\n",
              "          element.innerHTML = '';\n",
              "          dataTable['output_type'] = 'display_data';\n",
              "          await google.colab.output.renderOutput(dataTable, element);\n",
              "          const docLink = document.createElement('div');\n",
              "          docLink.innerHTML = docLinkHtml;\n",
              "          element.appendChild(docLink);\n",
              "        }\n",
              "      </script>\n",
              "    </div>\n",
              "  </div>\n",
              "  "
            ],
            "text/plain": [
              "   LineId   Date  ...  EventId                                  EventTemplate\n",
              "0       1  81109  ...       E5       Receiving block <*> src: /<*> dest: /<*>\n",
              "1       2  81109  ...      E22            BLOCK* NameSystem.allocateBlock:<*>\n",
              "2       3  81109  ...       E5       Receiving block <*> src: /<*> dest: /<*>\n",
              "3       4  81109  ...       E5       Receiving block <*> src: /<*> dest: /<*>\n",
              "4       5  81109  ...      E11  PacketResponder <*> for block <*> terminating\n",
              "\n",
              "[5 rows x 9 columns]"
            ]
          },
          "metadata": {},
          "execution_count": 9
        }
      ]
    },
    {
      "cell_type": "code",
      "metadata": {
        "id": "vLj264OWrHkp",
        "colab": {
          "base_uri": "https://localhost:8080/",
          "height": 241
        },
        "outputId": "8f5fd14a-6de0-485f-e865-9f433b482b0e"
      },
      "source": [
        "print(type(label_data))\n",
        "print(label_data.shape)\n",
        "label_data.head(5)"
      ],
      "execution_count": 10,
      "outputs": [
        {
          "output_type": "stream",
          "name": "stdout",
          "text": [
            "<class 'pandas.core.frame.DataFrame'>\n",
            "(575061, 2)\n"
          ]
        },
        {
          "output_type": "execute_result",
          "data": {
            "text/html": [
              "\n",
              "  <div id=\"df-893d17c8-e51d-46f7-960d-cfc20361ca05\">\n",
              "    <div class=\"colab-df-container\">\n",
              "      <div>\n",
              "<style scoped>\n",
              "    .dataframe tbody tr th:only-of-type {\n",
              "        vertical-align: middle;\n",
              "    }\n",
              "\n",
              "    .dataframe tbody tr th {\n",
              "        vertical-align: top;\n",
              "    }\n",
              "\n",
              "    .dataframe thead th {\n",
              "        text-align: right;\n",
              "    }\n",
              "</style>\n",
              "<table border=\"1\" class=\"dataframe\">\n",
              "  <thead>\n",
              "    <tr style=\"text-align: right;\">\n",
              "      <th></th>\n",
              "      <th>BlockId</th>\n",
              "      <th>Label</th>\n",
              "    </tr>\n",
              "  </thead>\n",
              "  <tbody>\n",
              "    <tr>\n",
              "      <th>0</th>\n",
              "      <td>blk_-1608999687919862906</td>\n",
              "      <td>Normal</td>\n",
              "    </tr>\n",
              "    <tr>\n",
              "      <th>1</th>\n",
              "      <td>blk_7503483334202473044</td>\n",
              "      <td>Normal</td>\n",
              "    </tr>\n",
              "    <tr>\n",
              "      <th>2</th>\n",
              "      <td>blk_-3544583377289625738</td>\n",
              "      <td>Anomaly</td>\n",
              "    </tr>\n",
              "    <tr>\n",
              "      <th>3</th>\n",
              "      <td>blk_-9073992586687739851</td>\n",
              "      <td>Normal</td>\n",
              "    </tr>\n",
              "    <tr>\n",
              "      <th>4</th>\n",
              "      <td>blk_7854771516489510256</td>\n",
              "      <td>Normal</td>\n",
              "    </tr>\n",
              "  </tbody>\n",
              "</table>\n",
              "</div>\n",
              "      <button class=\"colab-df-convert\" onclick=\"convertToInteractive('df-893d17c8-e51d-46f7-960d-cfc20361ca05')\"\n",
              "              title=\"Convert this dataframe to an interactive table.\"\n",
              "              style=\"display:none;\">\n",
              "        \n",
              "  <svg xmlns=\"http://www.w3.org/2000/svg\" height=\"24px\"viewBox=\"0 0 24 24\"\n",
              "       width=\"24px\">\n",
              "    <path d=\"M0 0h24v24H0V0z\" fill=\"none\"/>\n",
              "    <path d=\"M18.56 5.44l.94 2.06.94-2.06 2.06-.94-2.06-.94-.94-2.06-.94 2.06-2.06.94zm-11 1L8.5 8.5l.94-2.06 2.06-.94-2.06-.94L8.5 2.5l-.94 2.06-2.06.94zm10 10l.94 2.06.94-2.06 2.06-.94-2.06-.94-.94-2.06-.94 2.06-2.06.94z\"/><path d=\"M17.41 7.96l-1.37-1.37c-.4-.4-.92-.59-1.43-.59-.52 0-1.04.2-1.43.59L10.3 9.45l-7.72 7.72c-.78.78-.78 2.05 0 2.83L4 21.41c.39.39.9.59 1.41.59.51 0 1.02-.2 1.41-.59l7.78-7.78 2.81-2.81c.8-.78.8-2.07 0-2.86zM5.41 20L4 18.59l7.72-7.72 1.47 1.35L5.41 20z\"/>\n",
              "  </svg>\n",
              "      </button>\n",
              "      \n",
              "  <style>\n",
              "    .colab-df-container {\n",
              "      display:flex;\n",
              "      flex-wrap:wrap;\n",
              "      gap: 12px;\n",
              "    }\n",
              "\n",
              "    .colab-df-convert {\n",
              "      background-color: #E8F0FE;\n",
              "      border: none;\n",
              "      border-radius: 50%;\n",
              "      cursor: pointer;\n",
              "      display: none;\n",
              "      fill: #1967D2;\n",
              "      height: 32px;\n",
              "      padding: 0 0 0 0;\n",
              "      width: 32px;\n",
              "    }\n",
              "\n",
              "    .colab-df-convert:hover {\n",
              "      background-color: #E2EBFA;\n",
              "      box-shadow: 0px 1px 2px rgba(60, 64, 67, 0.3), 0px 1px 3px 1px rgba(60, 64, 67, 0.15);\n",
              "      fill: #174EA6;\n",
              "    }\n",
              "\n",
              "    [theme=dark] .colab-df-convert {\n",
              "      background-color: #3B4455;\n",
              "      fill: #D2E3FC;\n",
              "    }\n",
              "\n",
              "    [theme=dark] .colab-df-convert:hover {\n",
              "      background-color: #434B5C;\n",
              "      box-shadow: 0px 1px 3px 1px rgba(0, 0, 0, 0.15);\n",
              "      filter: drop-shadow(0px 1px 2px rgba(0, 0, 0, 0.3));\n",
              "      fill: #FFFFFF;\n",
              "    }\n",
              "  </style>\n",
              "\n",
              "      <script>\n",
              "        const buttonEl =\n",
              "          document.querySelector('#df-893d17c8-e51d-46f7-960d-cfc20361ca05 button.colab-df-convert');\n",
              "        buttonEl.style.display =\n",
              "          google.colab.kernel.accessAllowed ? 'block' : 'none';\n",
              "\n",
              "        async function convertToInteractive(key) {\n",
              "          const element = document.querySelector('#df-893d17c8-e51d-46f7-960d-cfc20361ca05');\n",
              "          const dataTable =\n",
              "            await google.colab.kernel.invokeFunction('convertToInteractive',\n",
              "                                                     [key], {});\n",
              "          if (!dataTable) return;\n",
              "\n",
              "          const docLinkHtml = 'Like what you see? Visit the ' +\n",
              "            '<a target=\"_blank\" href=https://colab.research.google.com/notebooks/data_table.ipynb>data table notebook</a>'\n",
              "            + ' to learn more about interactive tables.';\n",
              "          element.innerHTML = '';\n",
              "          dataTable['output_type'] = 'display_data';\n",
              "          await google.colab.output.renderOutput(dataTable, element);\n",
              "          const docLink = document.createElement('div');\n",
              "          docLink.innerHTML = docLinkHtml;\n",
              "          element.appendChild(docLink);\n",
              "        }\n",
              "      </script>\n",
              "    </div>\n",
              "  </div>\n",
              "  "
            ],
            "text/plain": [
              "                    BlockId    Label\n",
              "0  blk_-1608999687919862906   Normal\n",
              "1   blk_7503483334202473044   Normal\n",
              "2  blk_-3544583377289625738  Anomaly\n",
              "3  blk_-9073992586687739851   Normal\n",
              "4   blk_7854771516489510256   Normal"
            ]
          },
          "metadata": {},
          "execution_count": 10
        }
      ]
    },
    {
      "cell_type": "code",
      "metadata": {
        "id": "LNb41IFcoH7s",
        "colab": {
          "base_uri": "https://localhost:8080/"
        },
        "outputId": "229896ef-eb66-4cf8-e9e5-777388244c6c"
      },
      "source": [
        "struct_log.EventId.describe()\n",
        "#struct_log.EventId.nunique()\n",
        "struct_log.EventId.value_counts()"
      ],
      "execution_count": null,
      "outputs": [
        {
          "output_type": "execute_result",
          "data": {
            "text/plain": [
              "E5     23671\n",
              "E26    23478\n",
              "E11    23451\n",
              "E9     23447\n",
              "E22     7940\n",
              "E2      2183\n",
              "E3       407\n",
              "E7        68\n",
              "E6        31\n",
              "E18       27\n",
              "E25       27\n",
              "E16       27\n",
              "E13       24\n",
              "E21       23\n",
              "E14        4\n",
              "E10        3\n",
              "E15        2\n",
              "E27        1\n",
              "E8         1\n",
              "Name: EventId, dtype: int64"
            ]
          },
          "metadata": {},
          "execution_count": 22
        }
      ]
    },
    {
      "cell_type": "markdown",
      "metadata": {
        "id": "SKOlNaWRlxhB"
      },
      "source": [
        "## Preprocessing the data\n",
        "This step extracts the event sequence for each block ID, and merges the event sequences with the labels (normal/anomaly) with the event sequences."
      ]
    },
    {
      "cell_type": "markdown",
      "metadata": {
        "id": "RsCQdDLgqvm-"
      },
      "source": [
        "### Extracting the event sequence for each block ID\n",
        "Using a regular expression to find the block IDs in each log line, then producing a list of event (i.e., a event sequence) for each block ID."
      ]
    },
    {
      "cell_type": "code",
      "metadata": {
        "id": "OeXT2oeal1Rx",
        "colab": {
          "base_uri": "https://localhost:8080/",
          "height": 241
        },
        "outputId": "7a596794-8192-45c0-b2d6-7f5fe216d584"
      },
      "source": [
        "data_dict = OrderedDict()\n",
        "for idx, row in struct_log.iterrows():\n",
        "    blkId_list = re.findall(r'(blk_-?\\d+)', row['Content'])\n",
        "    blkId_set = set(blkId_list)\n",
        "    for blk_Id in blkId_set:\n",
        "        if not blk_Id in data_dict:\n",
        "            data_dict[blk_Id] = []\n",
        "        data_dict[blk_Id].append(row['EventId'])\n",
        "data_df = pd.DataFrame(list(data_dict.items()), columns=['BlockId', 'EventSequence'])\n",
        "\n",
        "print(type(data_df))\n",
        "print(data_df.shape)\n",
        "data_df.head(5)"
      ],
      "execution_count": null,
      "outputs": [
        {
          "output_type": "stream",
          "name": "stdout",
          "text": [
            "<class 'pandas.core.frame.DataFrame'>\n",
            "(7940, 2)\n"
          ]
        },
        {
          "output_type": "execute_result",
          "data": {
            "text/html": [
              "\n",
              "  <div id=\"df-c9a1fe62-e869-486e-9673-0456079cd070\">\n",
              "    <div class=\"colab-df-container\">\n",
              "      <div>\n",
              "<style scoped>\n",
              "    .dataframe tbody tr th:only-of-type {\n",
              "        vertical-align: middle;\n",
              "    }\n",
              "\n",
              "    .dataframe tbody tr th {\n",
              "        vertical-align: top;\n",
              "    }\n",
              "\n",
              "    .dataframe thead th {\n",
              "        text-align: right;\n",
              "    }\n",
              "</style>\n",
              "<table border=\"1\" class=\"dataframe\">\n",
              "  <thead>\n",
              "    <tr style=\"text-align: right;\">\n",
              "      <th></th>\n",
              "      <th>BlockId</th>\n",
              "      <th>EventSequence</th>\n",
              "    </tr>\n",
              "  </thead>\n",
              "  <tbody>\n",
              "    <tr>\n",
              "      <th>0</th>\n",
              "      <td>blk_-1608999687919862906</td>\n",
              "      <td>[E5, E22, E5, E5, E11, E11, E9, E9, E11, E9, E...</td>\n",
              "    </tr>\n",
              "    <tr>\n",
              "      <th>1</th>\n",
              "      <td>blk_7503483334202473044</td>\n",
              "      <td>[E5, E5, E22, E5, E11, E9, E11, E9, E11, E9, E...</td>\n",
              "    </tr>\n",
              "    <tr>\n",
              "      <th>2</th>\n",
              "      <td>blk_-3544583377289625738</td>\n",
              "      <td>[E5, E22, E5, E5, E11, E9, E11, E9, E11, E9, E...</td>\n",
              "    </tr>\n",
              "    <tr>\n",
              "      <th>3</th>\n",
              "      <td>blk_-9073992586687739851</td>\n",
              "      <td>[E5, E22, E5, E5, E11, E9, E11, E9, E11, E9, E...</td>\n",
              "    </tr>\n",
              "    <tr>\n",
              "      <th>4</th>\n",
              "      <td>blk_7854771516489510256</td>\n",
              "      <td>[E5, E5, E22, E5, E11, E9, E11, E9, E11, E9, E...</td>\n",
              "    </tr>\n",
              "  </tbody>\n",
              "</table>\n",
              "</div>\n",
              "      <button class=\"colab-df-convert\" onclick=\"convertToInteractive('df-c9a1fe62-e869-486e-9673-0456079cd070')\"\n",
              "              title=\"Convert this dataframe to an interactive table.\"\n",
              "              style=\"display:none;\">\n",
              "        \n",
              "  <svg xmlns=\"http://www.w3.org/2000/svg\" height=\"24px\"viewBox=\"0 0 24 24\"\n",
              "       width=\"24px\">\n",
              "    <path d=\"M0 0h24v24H0V0z\" fill=\"none\"/>\n",
              "    <path d=\"M18.56 5.44l.94 2.06.94-2.06 2.06-.94-2.06-.94-.94-2.06-.94 2.06-2.06.94zm-11 1L8.5 8.5l.94-2.06 2.06-.94-2.06-.94L8.5 2.5l-.94 2.06-2.06.94zm10 10l.94 2.06.94-2.06 2.06-.94-2.06-.94-.94-2.06-.94 2.06-2.06.94z\"/><path d=\"M17.41 7.96l-1.37-1.37c-.4-.4-.92-.59-1.43-.59-.52 0-1.04.2-1.43.59L10.3 9.45l-7.72 7.72c-.78.78-.78 2.05 0 2.83L4 21.41c.39.39.9.59 1.41.59.51 0 1.02-.2 1.41-.59l7.78-7.78 2.81-2.81c.8-.78.8-2.07 0-2.86zM5.41 20L4 18.59l7.72-7.72 1.47 1.35L5.41 20z\"/>\n",
              "  </svg>\n",
              "      </button>\n",
              "      \n",
              "  <style>\n",
              "    .colab-df-container {\n",
              "      display:flex;\n",
              "      flex-wrap:wrap;\n",
              "      gap: 12px;\n",
              "    }\n",
              "\n",
              "    .colab-df-convert {\n",
              "      background-color: #E8F0FE;\n",
              "      border: none;\n",
              "      border-radius: 50%;\n",
              "      cursor: pointer;\n",
              "      display: none;\n",
              "      fill: #1967D2;\n",
              "      height: 32px;\n",
              "      padding: 0 0 0 0;\n",
              "      width: 32px;\n",
              "    }\n",
              "\n",
              "    .colab-df-convert:hover {\n",
              "      background-color: #E2EBFA;\n",
              "      box-shadow: 0px 1px 2px rgba(60, 64, 67, 0.3), 0px 1px 3px 1px rgba(60, 64, 67, 0.15);\n",
              "      fill: #174EA6;\n",
              "    }\n",
              "\n",
              "    [theme=dark] .colab-df-convert {\n",
              "      background-color: #3B4455;\n",
              "      fill: #D2E3FC;\n",
              "    }\n",
              "\n",
              "    [theme=dark] .colab-df-convert:hover {\n",
              "      background-color: #434B5C;\n",
              "      box-shadow: 0px 1px 3px 1px rgba(0, 0, 0, 0.15);\n",
              "      filter: drop-shadow(0px 1px 2px rgba(0, 0, 0, 0.3));\n",
              "      fill: #FFFFFF;\n",
              "    }\n",
              "  </style>\n",
              "\n",
              "      <script>\n",
              "        const buttonEl =\n",
              "          document.querySelector('#df-c9a1fe62-e869-486e-9673-0456079cd070 button.colab-df-convert');\n",
              "        buttonEl.style.display =\n",
              "          google.colab.kernel.accessAllowed ? 'block' : 'none';\n",
              "\n",
              "        async function convertToInteractive(key) {\n",
              "          const element = document.querySelector('#df-c9a1fe62-e869-486e-9673-0456079cd070');\n",
              "          const dataTable =\n",
              "            await google.colab.kernel.invokeFunction('convertToInteractive',\n",
              "                                                     [key], {});\n",
              "          if (!dataTable) return;\n",
              "\n",
              "          const docLinkHtml = 'Like what you see? Visit the ' +\n",
              "            '<a target=\"_blank\" href=https://colab.research.google.com/notebooks/data_table.ipynb>data table notebook</a>'\n",
              "            + ' to learn more about interactive tables.';\n",
              "          element.innerHTML = '';\n",
              "          dataTable['output_type'] = 'display_data';\n",
              "          await google.colab.output.renderOutput(dataTable, element);\n",
              "          const docLink = document.createElement('div');\n",
              "          docLink.innerHTML = docLinkHtml;\n",
              "          element.appendChild(docLink);\n",
              "        }\n",
              "      </script>\n",
              "    </div>\n",
              "  </div>\n",
              "  "
            ],
            "text/plain": [
              "                    BlockId                                      EventSequence\n",
              "0  blk_-1608999687919862906  [E5, E22, E5, E5, E11, E11, E9, E9, E11, E9, E...\n",
              "1   blk_7503483334202473044  [E5, E5, E22, E5, E11, E9, E11, E9, E11, E9, E...\n",
              "2  blk_-3544583377289625738  [E5, E22, E5, E5, E11, E9, E11, E9, E11, E9, E...\n",
              "3  blk_-9073992586687739851  [E5, E22, E5, E5, E11, E9, E11, E9, E11, E9, E...\n",
              "4   blk_7854771516489510256  [E5, E5, E22, E5, E11, E9, E11, E9, E11, E9, E..."
            ]
          },
          "metadata": {},
          "execution_count": 13
        }
      ]
    },
    {
      "cell_type": "markdown",
      "metadata": {
        "id": "YPjYRkyOu7hJ"
      },
      "source": [
        "### Merging the label with the event sequence data\n",
        "Merging the event sequence data with the label data by matching the block IDs."
      ]
    },
    {
      "cell_type": "code",
      "metadata": {
        "id": "Yku8T2XxtP2q",
        "colab": {
          "base_uri": "https://localhost:8080/",
          "height": 206
        },
        "outputId": "8867e512-00a1-4609-e7cf-d55a8189fb6a"
      },
      "source": [
        "label_data_indexed = label_data.set_index('BlockId')\n",
        "label_dict = label_data_indexed['Label'].to_dict()\n",
        "data_df['Label'] = data_df['BlockId'].apply(lambda x: 1 if label_dict[x] == 'Anomaly' else 0)\n",
        "\n",
        "data_df.head(5)"
      ],
      "execution_count": null,
      "outputs": [
        {
          "output_type": "execute_result",
          "data": {
            "text/html": [
              "\n",
              "  <div id=\"df-e71ab35a-b325-483c-80ec-d371c4e655b4\">\n",
              "    <div class=\"colab-df-container\">\n",
              "      <div>\n",
              "<style scoped>\n",
              "    .dataframe tbody tr th:only-of-type {\n",
              "        vertical-align: middle;\n",
              "    }\n",
              "\n",
              "    .dataframe tbody tr th {\n",
              "        vertical-align: top;\n",
              "    }\n",
              "\n",
              "    .dataframe thead th {\n",
              "        text-align: right;\n",
              "    }\n",
              "</style>\n",
              "<table border=\"1\" class=\"dataframe\">\n",
              "  <thead>\n",
              "    <tr style=\"text-align: right;\">\n",
              "      <th></th>\n",
              "      <th>BlockId</th>\n",
              "      <th>EventSequence</th>\n",
              "      <th>Label</th>\n",
              "    </tr>\n",
              "  </thead>\n",
              "  <tbody>\n",
              "    <tr>\n",
              "      <th>0</th>\n",
              "      <td>blk_-1608999687919862906</td>\n",
              "      <td>[E5, E22, E5, E5, E11, E11, E9, E9, E11, E9, E...</td>\n",
              "      <td>0</td>\n",
              "    </tr>\n",
              "    <tr>\n",
              "      <th>1</th>\n",
              "      <td>blk_7503483334202473044</td>\n",
              "      <td>[E5, E5, E22, E5, E11, E9, E11, E9, E11, E9, E...</td>\n",
              "      <td>0</td>\n",
              "    </tr>\n",
              "    <tr>\n",
              "      <th>2</th>\n",
              "      <td>blk_-3544583377289625738</td>\n",
              "      <td>[E5, E22, E5, E5, E11, E9, E11, E9, E11, E9, E...</td>\n",
              "      <td>1</td>\n",
              "    </tr>\n",
              "    <tr>\n",
              "      <th>3</th>\n",
              "      <td>blk_-9073992586687739851</td>\n",
              "      <td>[E5, E22, E5, E5, E11, E9, E11, E9, E11, E9, E...</td>\n",
              "      <td>0</td>\n",
              "    </tr>\n",
              "    <tr>\n",
              "      <th>4</th>\n",
              "      <td>blk_7854771516489510256</td>\n",
              "      <td>[E5, E5, E22, E5, E11, E9, E11, E9, E11, E9, E...</td>\n",
              "      <td>0</td>\n",
              "    </tr>\n",
              "  </tbody>\n",
              "</table>\n",
              "</div>\n",
              "      <button class=\"colab-df-convert\" onclick=\"convertToInteractive('df-e71ab35a-b325-483c-80ec-d371c4e655b4')\"\n",
              "              title=\"Convert this dataframe to an interactive table.\"\n",
              "              style=\"display:none;\">\n",
              "        \n",
              "  <svg xmlns=\"http://www.w3.org/2000/svg\" height=\"24px\"viewBox=\"0 0 24 24\"\n",
              "       width=\"24px\">\n",
              "    <path d=\"M0 0h24v24H0V0z\" fill=\"none\"/>\n",
              "    <path d=\"M18.56 5.44l.94 2.06.94-2.06 2.06-.94-2.06-.94-.94-2.06-.94 2.06-2.06.94zm-11 1L8.5 8.5l.94-2.06 2.06-.94-2.06-.94L8.5 2.5l-.94 2.06-2.06.94zm10 10l.94 2.06.94-2.06 2.06-.94-2.06-.94-.94-2.06-.94 2.06-2.06.94z\"/><path d=\"M17.41 7.96l-1.37-1.37c-.4-.4-.92-.59-1.43-.59-.52 0-1.04.2-1.43.59L10.3 9.45l-7.72 7.72c-.78.78-.78 2.05 0 2.83L4 21.41c.39.39.9.59 1.41.59.51 0 1.02-.2 1.41-.59l7.78-7.78 2.81-2.81c.8-.78.8-2.07 0-2.86zM5.41 20L4 18.59l7.72-7.72 1.47 1.35L5.41 20z\"/>\n",
              "  </svg>\n",
              "      </button>\n",
              "      \n",
              "  <style>\n",
              "    .colab-df-container {\n",
              "      display:flex;\n",
              "      flex-wrap:wrap;\n",
              "      gap: 12px;\n",
              "    }\n",
              "\n",
              "    .colab-df-convert {\n",
              "      background-color: #E8F0FE;\n",
              "      border: none;\n",
              "      border-radius: 50%;\n",
              "      cursor: pointer;\n",
              "      display: none;\n",
              "      fill: #1967D2;\n",
              "      height: 32px;\n",
              "      padding: 0 0 0 0;\n",
              "      width: 32px;\n",
              "    }\n",
              "\n",
              "    .colab-df-convert:hover {\n",
              "      background-color: #E2EBFA;\n",
              "      box-shadow: 0px 1px 2px rgba(60, 64, 67, 0.3), 0px 1px 3px 1px rgba(60, 64, 67, 0.15);\n",
              "      fill: #174EA6;\n",
              "    }\n",
              "\n",
              "    [theme=dark] .colab-df-convert {\n",
              "      background-color: #3B4455;\n",
              "      fill: #D2E3FC;\n",
              "    }\n",
              "\n",
              "    [theme=dark] .colab-df-convert:hover {\n",
              "      background-color: #434B5C;\n",
              "      box-shadow: 0px 1px 3px 1px rgba(0, 0, 0, 0.15);\n",
              "      filter: drop-shadow(0px 1px 2px rgba(0, 0, 0, 0.3));\n",
              "      fill: #FFFFFF;\n",
              "    }\n",
              "  </style>\n",
              "\n",
              "      <script>\n",
              "        const buttonEl =\n",
              "          document.querySelector('#df-e71ab35a-b325-483c-80ec-d371c4e655b4 button.colab-df-convert');\n",
              "        buttonEl.style.display =\n",
              "          google.colab.kernel.accessAllowed ? 'block' : 'none';\n",
              "\n",
              "        async function convertToInteractive(key) {\n",
              "          const element = document.querySelector('#df-e71ab35a-b325-483c-80ec-d371c4e655b4');\n",
              "          const dataTable =\n",
              "            await google.colab.kernel.invokeFunction('convertToInteractive',\n",
              "                                                     [key], {});\n",
              "          if (!dataTable) return;\n",
              "\n",
              "          const docLinkHtml = 'Like what you see? Visit the ' +\n",
              "            '<a target=\"_blank\" href=https://colab.research.google.com/notebooks/data_table.ipynb>data table notebook</a>'\n",
              "            + ' to learn more about interactive tables.';\n",
              "          element.innerHTML = '';\n",
              "          dataTable['output_type'] = 'display_data';\n",
              "          await google.colab.output.renderOutput(dataTable, element);\n",
              "          const docLink = document.createElement('div');\n",
              "          docLink.innerHTML = docLinkHtml;\n",
              "          element.appendChild(docLink);\n",
              "        }\n",
              "      </script>\n",
              "    </div>\n",
              "  </div>\n",
              "  "
            ],
            "text/plain": [
              "                    BlockId  ... Label\n",
              "0  blk_-1608999687919862906  ...     0\n",
              "1   blk_7503483334202473044  ...     0\n",
              "2  blk_-3544583377289625738  ...     1\n",
              "3  blk_-9073992586687739851  ...     0\n",
              "4   blk_7854771516489510256  ...     0\n",
              "\n",
              "[5 rows x 3 columns]"
            ]
          },
          "metadata": {},
          "execution_count": 14
        }
      ]
    },
    {
      "cell_type": "markdown",
      "metadata": {
        "id": "1r0ZqG-YwzVb"
      },
      "source": [
        "### Spliting the data into training and testing subsets\n",
        "We split the data into 70% training data and 30% testing data."
      ]
    },
    {
      "cell_type": "markdown",
      "metadata": {
        "id": "cNTSbzXqzjXR"
      },
      "source": [
        "A utility function that split the data into training and testing data by a specified ratio."
      ]
    },
    {
      "cell_type": "code",
      "metadata": {
        "id": "hJFF0Na3xDWc"
      },
      "source": [
        "def _split_data(x_data, y_data, train_ratio=0.5):\n",
        "    pos_idx = y_data > 0\n",
        "    x_pos = x_data[pos_idx]\n",
        "    y_pos = y_data[pos_idx]\n",
        "    x_neg = x_data[~pos_idx]\n",
        "    y_neg = y_data[~pos_idx]\n",
        "    train_pos = int(train_ratio * x_pos.shape[0])\n",
        "    train_neg = int(train_ratio * x_neg.shape[0])\n",
        "    x_train = np.hstack([x_pos[0:train_pos], x_neg[0:train_neg]])\n",
        "    y_train = np.hstack([y_pos[0:train_pos], y_neg[0:train_neg]])\n",
        "    x_test = np.hstack([x_pos[train_pos:], x_neg[train_neg:]])\n",
        "    y_test = np.hstack([y_pos[train_pos:], y_neg[train_neg:]])\n",
        "    \n",
        "    return (x_train, y_train), (x_test, y_test)"
      ],
      "execution_count": null,
      "outputs": []
    },
    {
      "cell_type": "markdown",
      "metadata": {
        "id": "CdJRSo36ztwp"
      },
      "source": [
        "Shuffle and split the data into 70% training and 30% testing data."
      ]
    },
    {
      "cell_type": "code",
      "metadata": {
        "id": "bEQSiD84xmTF",
        "colab": {
          "base_uri": "https://localhost:8080/",
          "height": 206
        },
        "outputId": "77d941a5-1678-4cc7-843d-85984280adac"
      },
      "source": [
        "# Shuffle the data\n",
        "data_df = data_df.sample(frac=1).reset_index(drop=True)\n",
        "data_df.head(5)"
      ],
      "execution_count": null,
      "outputs": [
        {
          "output_type": "execute_result",
          "data": {
            "text/html": [
              "\n",
              "  <div id=\"df-a088a6ae-19bf-46eb-a8fa-e47a437a12d7\">\n",
              "    <div class=\"colab-df-container\">\n",
              "      <div>\n",
              "<style scoped>\n",
              "    .dataframe tbody tr th:only-of-type {\n",
              "        vertical-align: middle;\n",
              "    }\n",
              "\n",
              "    .dataframe tbody tr th {\n",
              "        vertical-align: top;\n",
              "    }\n",
              "\n",
              "    .dataframe thead th {\n",
              "        text-align: right;\n",
              "    }\n",
              "</style>\n",
              "<table border=\"1\" class=\"dataframe\">\n",
              "  <thead>\n",
              "    <tr style=\"text-align: right;\">\n",
              "      <th></th>\n",
              "      <th>BlockId</th>\n",
              "      <th>EventSequence</th>\n",
              "      <th>Label</th>\n",
              "    </tr>\n",
              "  </thead>\n",
              "  <tbody>\n",
              "    <tr>\n",
              "      <th>0</th>\n",
              "      <td>blk_7931027618406555566</td>\n",
              "      <td>[E5, E5, E5, E22, E11, E9, E11, E9, E11, E9, E...</td>\n",
              "      <td>0</td>\n",
              "    </tr>\n",
              "    <tr>\n",
              "      <th>1</th>\n",
              "      <td>blk_-5840304652811462326</td>\n",
              "      <td>[E22, E5, E5, E5, E26, E26, E11, E9, E11, E9, ...</td>\n",
              "      <td>0</td>\n",
              "    </tr>\n",
              "    <tr>\n",
              "      <th>2</th>\n",
              "      <td>blk_532273579375382069</td>\n",
              "      <td>[E5, E22, E5, E5, E11, E9, E11, E9, E26, E26, ...</td>\n",
              "      <td>0</td>\n",
              "    </tr>\n",
              "    <tr>\n",
              "      <th>3</th>\n",
              "      <td>blk_-3731196071527735383</td>\n",
              "      <td>[E22, E5, E5, E5, E26, E26, E26, E11, E9, E11,...</td>\n",
              "      <td>0</td>\n",
              "    </tr>\n",
              "    <tr>\n",
              "      <th>4</th>\n",
              "      <td>blk_-6312809472821143659</td>\n",
              "      <td>[E22, E5, E5, E5, E11, E9, E11, E9, E26, E11, ...</td>\n",
              "      <td>0</td>\n",
              "    </tr>\n",
              "  </tbody>\n",
              "</table>\n",
              "</div>\n",
              "      <button class=\"colab-df-convert\" onclick=\"convertToInteractive('df-a088a6ae-19bf-46eb-a8fa-e47a437a12d7')\"\n",
              "              title=\"Convert this dataframe to an interactive table.\"\n",
              "              style=\"display:none;\">\n",
              "        \n",
              "  <svg xmlns=\"http://www.w3.org/2000/svg\" height=\"24px\"viewBox=\"0 0 24 24\"\n",
              "       width=\"24px\">\n",
              "    <path d=\"M0 0h24v24H0V0z\" fill=\"none\"/>\n",
              "    <path d=\"M18.56 5.44l.94 2.06.94-2.06 2.06-.94-2.06-.94-.94-2.06-.94 2.06-2.06.94zm-11 1L8.5 8.5l.94-2.06 2.06-.94-2.06-.94L8.5 2.5l-.94 2.06-2.06.94zm10 10l.94 2.06.94-2.06 2.06-.94-2.06-.94-.94-2.06-.94 2.06-2.06.94z\"/><path d=\"M17.41 7.96l-1.37-1.37c-.4-.4-.92-.59-1.43-.59-.52 0-1.04.2-1.43.59L10.3 9.45l-7.72 7.72c-.78.78-.78 2.05 0 2.83L4 21.41c.39.39.9.59 1.41.59.51 0 1.02-.2 1.41-.59l7.78-7.78 2.81-2.81c.8-.78.8-2.07 0-2.86zM5.41 20L4 18.59l7.72-7.72 1.47 1.35L5.41 20z\"/>\n",
              "  </svg>\n",
              "      </button>\n",
              "      \n",
              "  <style>\n",
              "    .colab-df-container {\n",
              "      display:flex;\n",
              "      flex-wrap:wrap;\n",
              "      gap: 12px;\n",
              "    }\n",
              "\n",
              "    .colab-df-convert {\n",
              "      background-color: #E8F0FE;\n",
              "      border: none;\n",
              "      border-radius: 50%;\n",
              "      cursor: pointer;\n",
              "      display: none;\n",
              "      fill: #1967D2;\n",
              "      height: 32px;\n",
              "      padding: 0 0 0 0;\n",
              "      width: 32px;\n",
              "    }\n",
              "\n",
              "    .colab-df-convert:hover {\n",
              "      background-color: #E2EBFA;\n",
              "      box-shadow: 0px 1px 2px rgba(60, 64, 67, 0.3), 0px 1px 3px 1px rgba(60, 64, 67, 0.15);\n",
              "      fill: #174EA6;\n",
              "    }\n",
              "\n",
              "    [theme=dark] .colab-df-convert {\n",
              "      background-color: #3B4455;\n",
              "      fill: #D2E3FC;\n",
              "    }\n",
              "\n",
              "    [theme=dark] .colab-df-convert:hover {\n",
              "      background-color: #434B5C;\n",
              "      box-shadow: 0px 1px 3px 1px rgba(0, 0, 0, 0.15);\n",
              "      filter: drop-shadow(0px 1px 2px rgba(0, 0, 0, 0.3));\n",
              "      fill: #FFFFFF;\n",
              "    }\n",
              "  </style>\n",
              "\n",
              "      <script>\n",
              "        const buttonEl =\n",
              "          document.querySelector('#df-a088a6ae-19bf-46eb-a8fa-e47a437a12d7 button.colab-df-convert');\n",
              "        buttonEl.style.display =\n",
              "          google.colab.kernel.accessAllowed ? 'block' : 'none';\n",
              "\n",
              "        async function convertToInteractive(key) {\n",
              "          const element = document.querySelector('#df-a088a6ae-19bf-46eb-a8fa-e47a437a12d7');\n",
              "          const dataTable =\n",
              "            await google.colab.kernel.invokeFunction('convertToInteractive',\n",
              "                                                     [key], {});\n",
              "          if (!dataTable) return;\n",
              "\n",
              "          const docLinkHtml = 'Like what you see? Visit the ' +\n",
              "            '<a target=\"_blank\" href=https://colab.research.google.com/notebooks/data_table.ipynb>data table notebook</a>'\n",
              "            + ' to learn more about interactive tables.';\n",
              "          element.innerHTML = '';\n",
              "          dataTable['output_type'] = 'display_data';\n",
              "          await google.colab.output.renderOutput(dataTable, element);\n",
              "          const docLink = document.createElement('div');\n",
              "          docLink.innerHTML = docLinkHtml;\n",
              "          element.appendChild(docLink);\n",
              "        }\n",
              "      </script>\n",
              "    </div>\n",
              "  </div>\n",
              "  "
            ],
            "text/plain": [
              "                    BlockId  ... Label\n",
              "0   blk_7931027618406555566  ...     0\n",
              "1  blk_-5840304652811462326  ...     0\n",
              "2    blk_532273579375382069  ...     0\n",
              "3  blk_-3731196071527735383  ...     0\n",
              "4  blk_-6312809472821143659  ...     0\n",
              "\n",
              "[5 rows x 3 columns]"
            ]
          },
          "metadata": {},
          "execution_count": 16
        }
      ]
    },
    {
      "cell_type": "code",
      "metadata": {
        "id": "aS8_Ioh_5ib8"
      },
      "source": [
        "# Split train and test data\n",
        "train_ratio = 0.7\n",
        "(x_train, y_train), (x_test, y_test) = _split_data(data_df['EventSequence'].values,\n",
        "    data_df['Label'].values, train_ratio)"
      ],
      "execution_count": null,
      "outputs": []
    },
    {
      "cell_type": "markdown",
      "metadata": {
        "id": "QhBg1xfyz9Ed"
      },
      "source": [
        "Summarized the training and testing data."
      ]
    },
    {
      "cell_type": "code",
      "metadata": {
        "id": "bmg35PFnyCNw",
        "colab": {
          "base_uri": "https://localhost:8080/"
        },
        "outputId": "115ae46f-ac92-4222-b5a8-ec71e2cedb11"
      },
      "source": [
        "num_train = x_train.shape[0]\n",
        "num_test = x_test.shape[0]\n",
        "num_total = num_train + num_test\n",
        "num_train_pos = sum(y_train)\n",
        "num_test_pos = sum(y_test)\n",
        "num_pos = num_train_pos + num_test_pos\n",
        "\n",
        "print('Total: {} instances, {} anomaly, {} normal' \\\n",
        "      .format(num_total, num_pos, num_total - num_pos))\n",
        "print('Train: {} instances, {} anomaly, {} normal' \\\n",
        "      .format(num_train, num_train_pos, num_train - num_train_pos))\n",
        "print('Test: {} instances, {} anomaly, {} normal\\n' \\\n",
        "      .format(num_test, num_test_pos, num_test - num_test_pos))\n",
        "\n",
        "#print(type(x_train))\n",
        "print('====== x_train (first five lines) ======')\n",
        "print(x_train[:5])\n",
        "\n",
        "print('====== y_train (first five lines) ======')\n",
        "print(y_train[:5])"
      ],
      "execution_count": null,
      "outputs": [
        {
          "output_type": "stream",
          "name": "stdout",
          "text": [
            "Total: 7940 instances, 313 anomaly, 7627 normal\n",
            "Train: 5557 instances, 219 anomaly, 5338 normal\n",
            "Test: 2383 instances, 94 anomaly, 2289 normal\n",
            "\n",
            "====== x_train (first five lines) ======\n",
            "[list(['E22', 'E5', 'E5', 'E5', 'E26', 'E26', 'E26', 'E11', 'E9', 'E11', 'E9', 'E11', 'E9'])\n",
            " list(['E22', 'E5', 'E5', 'E7'])\n",
            " list(['E22', 'E5', 'E5', 'E5', 'E26', 'E26', 'E26', 'E11', 'E9', 'E11', 'E9', 'E11', 'E9'])\n",
            " list(['E22', 'E5', 'E5', 'E5', 'E26', 'E11', 'E9', 'E11', 'E9', 'E26', 'E11', 'E9', 'E26'])\n",
            " list(['E22', 'E5', 'E5', 'E26', 'E5', 'E11', 'E9', 'E11', 'E9', 'E25', 'E26', 'E11', 'E9', 'E26', 'E18', 'E26', 'E6', 'E5', 'E16', 'E21'])]\n",
            "====== y_train (first five lines) ======\n",
            "[1 1 1 1 1]\n"
          ]
        }
      ]
    },
    {
      "cell_type": "markdown",
      "metadata": {
        "id": "IrGOjfHmSutl"
      },
      "source": [
        "## Feature Extraction\n",
        "\n",
        "This step is to extract features from logs for subsequent machine learning models.\n",
        "The input is the structured log events, and the ouput is an event count matrix that represents the occurence number of each log event in a log sequence (logs belonging to the same session id in this example)."
      ]
    },
    {
      "cell_type": "markdown",
      "metadata": {
        "id": "3QIIuAQ0rxUl"
      },
      "source": [
        "Transforming the training data: count the occurrences of each event for each session ID. You probably notice that the unique event number is 18, not 19 as show in the above section. This because some rare event only appears in the test data set."
      ]
    },
    {
      "cell_type": "code",
      "metadata": {
        "id": "npLxH8zHkslL",
        "colab": {
          "base_uri": "https://localhost:8080/"
        },
        "outputId": "7d52dce3-146a-4ab4-9fa2-0a5124e4dd79"
      },
      "source": [
        "def transform_train_data(X_seq):\n",
        "    X_counts = []\n",
        "    for i in range(X_seq.shape[0]):\n",
        "        event_counts = Counter(X_seq[i])\n",
        "        X_counts.append(event_counts)\n",
        "    X_df = pd.DataFrame(X_counts)\n",
        "    X_df = X_df.fillna(0)\n",
        "    events = X_df.columns\n",
        "    X = X_df.values\n",
        "    return (X, events)\n",
        "\n",
        "transformed = transform_train_data(x_train)\n",
        "x_train = transformed[0]\n",
        "# The events in the training data, \n",
        "# used later to ingore the events in the test data that is unseen in the training data\n",
        "events = transformed[1] \n",
        "\n",
        "print('====== Transformed train data summary ======')\n",
        "print('Train data shape: {}-by-{}\\n'.format(x_train.shape[0], x_train.shape[1])) \n",
        "print(x_train[:5])"
      ],
      "execution_count": null,
      "outputs": [
        {
          "output_type": "stream",
          "name": "stdout",
          "text": [
            "====== Transformed train data summary ======\n",
            "Train data shape: 5557-by-18\n",
            "\n",
            "[[1. 3. 3. 3. 3. 0. 0. 0. 0. 0. 0. 0. 0. 0. 0. 0. 0. 0.]\n",
            " [1. 2. 0. 0. 0. 1. 0. 0. 0. 0. 0. 0. 0. 0. 0. 0. 0. 0.]\n",
            " [1. 3. 3. 3. 3. 0. 0. 0. 0. 0. 0. 0. 0. 0. 0. 0. 0. 0.]\n",
            " [1. 3. 3. 3. 3. 0. 0. 0. 0. 0. 0. 0. 0. 0. 0. 0. 0. 0.]\n",
            " [1. 4. 4. 3. 3. 0. 1. 1. 1. 1. 1. 0. 0. 0. 0. 0. 0. 0.]]\n"
          ]
        }
      ]
    },
    {
      "cell_type": "markdown",
      "source": [
        "Show the index of each event"
      ],
      "metadata": {
        "id": "CxrXHETpzueE"
      }
    },
    {
      "cell_type": "code",
      "source": [
        "events"
      ],
      "metadata": {
        "id": "pahBoljbzrNH",
        "outputId": "30ee64cc-cafb-4e0a-9a33-c870198eaf8a",
        "colab": {
          "base_uri": "https://localhost:8080/"
        }
      },
      "execution_count": null,
      "outputs": [
        {
          "output_type": "execute_result",
          "data": {
            "text/plain": [
              "Index(['E22', 'E5', 'E26', 'E11', 'E9', 'E7', 'E25', 'E18', 'E6', 'E16', 'E21',\n",
              "       'E2', 'E13', 'E10', 'E14', 'E3', 'E8', 'E15'],\n",
              "      dtype='object')"
            ]
          },
          "metadata": {},
          "execution_count": 23
        }
      ]
    },
    {
      "cell_type": "markdown",
      "metadata": {
        "id": "hdlopMDYsFjp"
      },
      "source": [
        "Transforming the testing data: count the occurrences of each event for each session ID, ignoring the events that do not exist in the training data."
      ]
    },
    {
      "cell_type": "code",
      "metadata": {
        "id": "EJpH_EEbmY_C",
        "colab": {
          "base_uri": "https://localhost:8080/"
        },
        "outputId": "b910a23e-a80d-4d5e-d646-4f6205aa9654"
      },
      "source": [
        "def transform_test_data(X_seq, events):\n",
        "    X_counts = []\n",
        "    for i in range(X_seq.shape[0]):\n",
        "        event_counts = Counter(X_seq[i])\n",
        "        X_counts.append(event_counts)\n",
        "    X_df = pd.DataFrame(X_counts)\n",
        "    X_df = X_df.fillna(0)\n",
        "    # treat the counts of the missing events as 0s\n",
        "    empty_events = set(events) - set(X_df.columns) \n",
        "    for event in empty_events:\n",
        "        X_df[event] = [0] * len(X_df)\n",
        "    X = X_df[events].values\n",
        "    return X\n",
        "\n",
        "x_test = transform_test_data(x_test, events)\n",
        "\n",
        "print('====== Transformed test data summary ======')\n",
        "print('Test data shape: {}-by-{}\\n'.format(x_test.shape[0], x_test.shape[1])) \n",
        "print(x_test[:5])"
      ],
      "execution_count": null,
      "outputs": [
        {
          "output_type": "stream",
          "name": "stdout",
          "text": [
            "====== Transformed test data summary ======\n",
            "Test data shape: 2383-by-16\n",
            "\n",
            "[[1. 1. 0. 0. 0. 0. 0. 0. 0. 0. 0. 0. 0. 0. 0. 0.]\n",
            " [1. 3. 3. 3. 3. 0. 0. 0. 0. 0. 0. 0. 0. 0. 0. 0.]\n",
            " [1. 3. 3. 3. 3. 0. 0. 3. 0. 0. 0. 0. 0. 0. 0. 0.]\n",
            " [1. 2. 0. 0. 0. 1. 0. 0. 0. 0. 0. 0. 0. 0. 0. 0.]\n",
            " [1. 3. 3. 3. 3. 0. 0. 3. 0. 0. 0. 0. 0. 0. 0. 0.]]\n"
          ]
        }
      ]
    },
    {
      "cell_type": "markdown",
      "metadata": {
        "id": "qdbQQs9WUKZs"
      },
      "source": [
        "## Construting a logistic regression model\n",
        "Construct a logistic regrssion model using the trining data, using the *LogisticRegression* method from the **sklearn** library. "
      ]
    },
    {
      "cell_type": "code",
      "metadata": {
        "id": "y2uHOoCXKjm1",
        "colab": {
          "base_uri": "https://localhost:8080/"
        },
        "outputId": "1da68e77-351a-4590-c33a-ed918546d1e3"
      },
      "source": [
        "lr_classifier = LogisticRegression(penalty='l2', C=100, tol=0.01, class_weight=None, max_iter=100)\n",
        "\n",
        "lr_classifier.fit(x_train, y_train)"
      ],
      "execution_count": null,
      "outputs": [
        {
          "output_type": "stream",
          "name": "stderr",
          "text": [
            "/usr/local/lib/python3.7/dist-packages/sklearn/linear_model/_logistic.py:940: ConvergenceWarning: lbfgs failed to converge (status=1):\n",
            "STOP: TOTAL NO. of ITERATIONS REACHED LIMIT.\n",
            "\n",
            "Increase the number of iterations (max_iter) or scale the data as shown in:\n",
            "    https://scikit-learn.org/stable/modules/preprocessing.html\n",
            "Please also refer to the documentation for alternative solver options:\n",
            "    https://scikit-learn.org/stable/modules/linear_model.html#logistic-regression\n",
            "  extra_warning_msg=_LOGISTIC_SOLVER_CONVERGENCE_MSG)\n"
          ]
        },
        {
          "output_type": "execute_result",
          "data": {
            "text/plain": [
              "LogisticRegression(C=100, class_weight=None, dual=False, fit_intercept=True,\n",
              "                   intercept_scaling=1, l1_ratio=None, max_iter=100,\n",
              "                   multi_class='auto', n_jobs=None, penalty='l2',\n",
              "                   random_state=None, solver='lbfgs', tol=0.01, verbose=0,\n",
              "                   warm_start=False)"
            ]
          },
          "metadata": {},
          "execution_count": 15
        }
      ]
    },
    {
      "cell_type": "markdown",
      "metadata": {
        "id": "G7SRlY2TU10c"
      },
      "source": [
        "## Evaluate the performance of the logistic regression model\n",
        "\n",
        "We evaluate the model's performance on the testing set. \n",
        "\n"
      ]
    },
    {
      "cell_type": "markdown",
      "metadata": {
        "id": "RLrqwYUw9lQm"
      },
      "source": [
        "### Precision, recall, f1-score, and precision-recall curve\n",
        "We use the *precision_recall_fscore_support* method from the **sklearn** library to calculate the precision, recall, and f1 measure."
      ]
    },
    {
      "cell_type": "code",
      "metadata": {
        "id": "l7q3dvvsKsOy",
        "colab": {
          "base_uri": "https://localhost:8080/"
        },
        "outputId": "8bcefc43-5342-478d-a67d-8cbe60455ca4"
      },
      "source": [
        "print('Test validation:')\n",
        "print('====== Evaluation summary ======')\n",
        "y_test_pred_lr = lr_classifier.predict(x_test)\n",
        "\n",
        "precision, recall, f1, _ = precision_recall_fscore_support(y_test, y_test_pred_lr, average='binary')\n",
        "print('Precision: {:.3f}, recall: {:.3f}, F1-measure: {:.3f}\\n'.format(precision, recall, f1))"
      ],
      "execution_count": null,
      "outputs": [
        {
          "output_type": "stream",
          "name": "stdout",
          "text": [
            "Test validation:\n",
            "====== Evaluation summary ======\n",
            "Precision: 1.000, recall: 0.500, F1-measure: 0.667\n",
            "\n"
          ]
        }
      ]
    },
    {
      "cell_type": "markdown",
      "metadata": {
        "id": "pSW2pZoUTACu"
      },
      "source": [
        "**Precision and recall are sensitive to the cutting threshold of the predicted probability**"
      ]
    },
    {
      "cell_type": "code",
      "metadata": {
        "id": "WkL5mQQGS7kB",
        "colab": {
          "base_uri": "https://localhost:8080/",
          "height": 312
        },
        "outputId": "9e5ef4de-5e17-480a-c276-03a7dff13710"
      },
      "source": [
        "y_test_pred_proba_lr = lr_classifier.predict_proba(x_test)[:,1] # predicted probabilities for being \"anomaly\"\n",
        "\n",
        "precision, recall, thresholds = precision_recall_curve(y_test, y_test_pred_proba_lr)\n",
        "\n",
        "plt.step(recall, precision, color='b', alpha=0.2,\n",
        "         where='post')\n",
        "plt.fill_between(recall, precision, step='post', alpha=0.2,\n",
        "                 color='b')\n",
        "\n",
        "plt.xlabel('Recall')\n",
        "plt.ylabel('Precision')\n",
        "plt.ylim([0.0, 1.05])\n",
        "plt.xlim([0.0, 1.0])\n",
        "plt.title('2-class Precision-Recall curve')"
      ],
      "execution_count": null,
      "outputs": [
        {
          "output_type": "execute_result",
          "data": {
            "text/plain": [
              "Text(0.5, 1.0, '2-class Precision-Recall curve')"
            ]
          },
          "metadata": {},
          "execution_count": 17
        },
        {
          "output_type": "display_data",
          "data": {
            "image/png": "[encoded data removed]",
            "text/plain": [
              "<Figure size 432x288 with 1 Axes>"
            ]
          },
          "metadata": {
            "needs_background": "light"
          }
        }
      ]
    },
    {
      "cell_type": "markdown",
      "metadata": {
        "id": "XkFc5ceu7Yfg"
      },
      "source": [
        "### ROC curve and AUC\n",
        "The **ROC curve** is the true positive rate plotted against the false positive rate. We need the predicted probabilities to plot and ROC curves and teh AUC values."
      ]
    },
    {
      "cell_type": "code",
      "metadata": {
        "id": "nrfvxKrj7N5W"
      },
      "source": [
        "y_test_pred_proba_lr = lr_classifier.predict_proba(x_test)[:,1] # predicted probabilities for being \"anomaly\"\n"
      ],
      "execution_count": null,
      "outputs": []
    },
    {
      "cell_type": "markdown",
      "metadata": {
        "id": "RdBWejVO8HlC"
      },
      "source": [
        "We use the *pyplot* method in the **matplotlib** library to plot the roc curves."
      ]
    },
    {
      "cell_type": "code",
      "metadata": {
        "id": "WzK2WPD77wnJ"
      },
      "source": [
        "def plot_roc_curve(fpr, tpr):\n",
        "    plt.plot(fpr, tpr, color='orange', label='ROC')\n",
        "    plt.plot([0, 1], [0, 1], color='darkblue', linestyle='--')\n",
        "    plt.xlabel('False Positive Rate')\n",
        "    plt.ylabel('True Positive Rate')\n",
        "    plt.title('Receiver Operating Characteristic (ROC) Curve')\n",
        "    plt.legend()\n",
        "    plt.show()"
      ],
      "execution_count": null,
      "outputs": []
    },
    {
      "cell_type": "markdown",
      "metadata": {
        "id": "b-rtPrPb9W2T"
      },
      "source": [
        "We use the *roc_curve* method from the **sklearn** library to calculate the false positve and true prositive values for plotting the roc curves."
      ]
    },
    {
      "cell_type": "code",
      "metadata": {
        "id": "IiDcPRZX8abs",
        "colab": {
          "base_uri": "https://localhost:8080/",
          "height": 295
        },
        "outputId": "96884e9a-7f5c-4ca0-f865-7c84f8134ec8"
      },
      "source": [
        "fpr, tpr, thresholds = roc_curve(y_test, y_test_pred_proba_lr)\n",
        "plot_roc_curve(fpr, tpr)"
      ],
      "execution_count": null,
      "outputs": [
        {
          "output_type": "display_data",
          "data": {
            "image/png": "[encoded data removed]",
            "text/plain": [
              "<Figure size 432x288 with 1 Axes>"
            ]
          },
          "metadata": {
            "needs_background": "light"
          }
        }
      ]
    },
    {
      "cell_type": "markdown",
      "metadata": {
        "id": "WH3Kalot97ye"
      },
      "source": [
        "The **AUC** is the area under the ROC curve, ranging from 0 to 1, the higher the better. A random guess model usually gets an AUC of 0.5. We use the *roc_auc_score* method from the **sklearn** library to calculate the AUC value. "
      ]
    },
    {
      "cell_type": "code",
      "metadata": {
        "id": "eU3C2k7G9_P_",
        "colab": {
          "base_uri": "https://localhost:8080/"
        },
        "outputId": "37dd6918-66ca-4280-ce9b-5ab309b578bb"
      },
      "source": [
        "roc_auc = roc_auc_score(y_test, y_test_pred_proba_lr)\n",
        "print('AUC: %.3f\\n' % roc_auc)"
      ],
      "execution_count": null,
      "outputs": [
        {
          "output_type": "stream",
          "name": "stdout",
          "text": [
            "AUC: 0.772\n",
            "\n"
          ]
        }
      ]
    },
    {
      "cell_type": "markdown",
      "metadata": {
        "id": "dpuQM1ettJsx"
      },
      "source": [
        "## Constructing a decision tree model\n",
        "Constructing a decision tree model using the *DecisionTreeClassifier* method from the **sklearn** library."
      ]
    },
    {
      "cell_type": "code",
      "metadata": {
        "id": "DG-zHUwXto9R",
        "colab": {
          "base_uri": "https://localhost:8080/"
        },
        "outputId": "5c262daa-d18a-4f3d-a117-33caf6addaa1"
      },
      "source": [
        "dt_classifier = DecisionTreeClassifier(criterion='gini', max_depth=None,\n",
        "                          max_features=None, class_weight=None)\n",
        "dt_classifier.fit(x_train, y_train)"
      ],
      "execution_count": null,
      "outputs": [
        {
          "output_type": "execute_result",
          "data": {
            "text/plain": [
              "DecisionTreeClassifier(ccp_alpha=0.0, class_weight=None, criterion='gini',\n",
              "                       max_depth=None, max_features=None, max_leaf_nodes=None,\n",
              "                       min_impurity_decrease=0.0, min_impurity_split=None,\n",
              "                       min_samples_leaf=1, min_samples_split=2,\n",
              "                       min_weight_fraction_leaf=0.0, presort='deprecated',\n",
              "                       random_state=None, splitter='best')"
            ]
          },
          "metadata": {},
          "execution_count": 22
        }
      ]
    },
    {
      "cell_type": "markdown",
      "metadata": {
        "id": "2gZ2Qp48u8kX"
      },
      "source": [
        "## Evaluate the performance of the decision tree model\n",
        "\n",
        "We evaluate the model's performance on the testing set."
      ]
    },
    {
      "cell_type": "markdown",
      "metadata": {
        "id": "ORdhk4DbxtxK"
      },
      "source": [
        "### Precision, recall, and f1-score\n",
        "\n",
        "We use the precision_recall_fscore_support method from the sklearn library to calculate the precision, recall, and f1 measure."
      ]
    },
    {
      "cell_type": "code",
      "metadata": {
        "id": "beOqGLHXvT1c",
        "colab": {
          "base_uri": "https://localhost:8080/"
        },
        "outputId": "4a8f9581-4559-4ba7-95b3-d5c7372184d3"
      },
      "source": [
        "print('Test validation:')\n",
        "print('====== Evaluation summary ======')\n",
        "y_test_pred_dt = dt_classifier.predict(x_test)\n",
        "\n",
        "precision, recall, f1, _ = precision_recall_fscore_support(y_test, y_test_pred_dt, average='binary')\n",
        "print('Precision: {:.3f}, recall: {:.3f}, F1-measure: {:.3f}\\n'.format(precision, recall, f1))"
      ],
      "execution_count": null,
      "outputs": [
        {
          "output_type": "stream",
          "name": "stdout",
          "text": [
            "Test validation:\n",
            "====== Evaluation summary ======\n",
            "Precision: 1.000, recall: 0.489, F1-measure: 0.657\n",
            "\n"
          ]
        }
      ]
    },
    {
      "cell_type": "markdown",
      "metadata": {
        "id": "fDshcn35v324"
      },
      "source": [
        "### AUC\n",
        "We need the predicted probabilities to calculate the AUC value."
      ]
    },
    {
      "cell_type": "code",
      "metadata": {
        "id": "QAugQsU2v6Bw"
      },
      "source": [
        "y_test_pred_proba_dt = dt_classifier.predict_proba(x_test)[:,1] # predicted probabilities for being \"anomaly\""
      ],
      "execution_count": null,
      "outputs": []
    },
    {
      "cell_type": "markdown",
      "metadata": {
        "id": "CwVJCIZ9wUtC"
      },
      "source": [
        "The AUC is the area under the ROC curve, ranging from 0 to 1, the higher the better. A random guess model usually gets an AUC of 0.5. We use the roc_auc_score method from the sklearn library to calculate the AUC value."
      ]
    },
    {
      "cell_type": "code",
      "metadata": {
        "id": "AN1McYUqwk-0",
        "colab": {
          "base_uri": "https://localhost:8080/"
        },
        "outputId": "3d6b0a8b-b239-4cff-a5be-e91e899c014b"
      },
      "source": [
        "roc_auc = roc_auc_score(y_test, y_test_pred_proba_dt)\n",
        "print('AUC: %.3f\\n' % roc_auc)"
      ],
      "execution_count": null,
      "outputs": [
        {
          "output_type": "stream",
          "name": "stdout",
          "text": [
            "AUC: 0.760\n",
            "\n"
          ]
        }
      ]
    }
  ]
}